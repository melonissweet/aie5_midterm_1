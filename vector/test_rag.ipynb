{
 "cells": [
  {
   "cell_type": "code",
   "execution_count": 20,
   "metadata": {},
   "outputs": [],
   "source": [
    "from langchain_openai import ChatOpenAI\n",
    "from langchain_core.prompts import ChatPromptTemplate, MessagesPlaceholder\n",
    "from langchain.schema import StrOutputParser\n",
    "from operator import itemgetter\n",
    "from dotenv import load_dotenv\n",
    "import os\n",
    "from qdrant_client import QdrantClient\n",
    "from langchain_huggingface.embeddings import HuggingFaceEmbeddings\n",
    "from langchain_qdrant import QdrantVectorStore\n",
    "from langchain.schema.runnable import RunnablePassthrough\n",
    "from langsmith import Client\n",
    "\n",
    "\n",
    "# Load environment variables\n",
    "load_dotenv()\n",
    "\n",
    "tavily_api_key = os.getenv(\"TAVILY_API_KEY\")\n",
    "qdrant_url = os.getenv(\"QDRANT_CLOUD_URL\")\n",
    "qdrant_api_key = os.getenv(\"QDRANT_CLOUD_KEY\")\n",
    "openai_api_key = os.getenv(\"OPENAI_API_KEY\")\n",
    "\n",
    "# Define LLMs\n",
    "# large_llm = ChatOpenAI(model=\"gpt-4o\", temperature=0.2, api_key=openai_api_key)\n",
    "base_llm = ChatOpenAI(model=\"gpt-4o-mini\", temperature=0.8, api_key=openai_api_key)\n",
    "\n",
    "# Define Embeddings\n",
    "huggingface_embeddings = HuggingFaceEmbeddings(\n",
    "    model_name=\"Snowflake/snowflake-arctic-embed-l\", model_kwargs={'trust_remote_code': True}\n",
    ")\n"
   ]
  },
  {
   "cell_type": "code",
   "execution_count": 26,
   "metadata": {},
   "outputs": [
    {
     "name": "stderr",
     "output_type": "stream",
     "text": [
      "Some weights of BertModel were not initialized from the model checkpoint at mel00/legal-ft-midterm and are newly initialized: ['pooler.dense.bias', 'pooler.dense.weight']\n",
      "You should probably TRAIN this model on a down-stream task to be able to use it for predictions and inference.\n"
     ]
    }
   ],
   "source": [
    "# Define Embeddings\n",
    "huggingface_embeddings = HuggingFaceEmbeddings(\n",
    "    model_name=\"mel00/legal-ft-midterm\", model_kwargs={'trust_remote_code': True}\n",
    ")"
   ]
  },
  {
   "cell_type": "code",
   "execution_count": 21,
   "metadata": {},
   "outputs": [],
   "source": [
    "from langchain_core.prompts import PromptTemplate\n",
    "# Define RAG components\n",
    "rag_prompt_template = \"\"\"\n",
    "You are a helpful legal assistant that answers questions based on the provided legal, by-law, and guidance context.\n",
    "You must only use the provided context and avoid adding any extra knowledge.\n",
    "Use simple and clear English, avoiding difficult legal terms.\n",
    "\n",
    "## Question:\n",
    "{question}\n",
    "## Context:\n",
    "{context}\n",
    "\"\"\"\n",
    "\n",
    "rag_prompt = PromptTemplate.from_template(rag_prompt_template)"
   ]
  },
  {
   "cell_type": "code",
   "execution_count": 22,
   "metadata": {},
   "outputs": [],
   "source": [
    "# Connect to Qdrant\n",
    "qdrant_client = QdrantClient(url=qdrant_url, api_key=qdrant_api_key)\n",
    "collection_name = \"ontario_ltb_toronto_guidance\"\n"
   ]
  },
  {
   "cell_type": "code",
   "execution_count": 23,
   "metadata": {},
   "outputs": [],
   "source": [
    "vector_store = QdrantVectorStore(\n",
    "    client=qdrant_client,\n",
    "    collection_name=collection_name,\n",
    "    embedding=huggingface_embeddings,\n",
    ")\n",
    "retriever = vector_store.as_retriever(search_kwargs={\"k\": 5})"
   ]
  },
  {
   "cell_type": "code",
   "execution_count": null,
   "metadata": {},
   "outputs": [],
   "source": [
    "rag_chain = (\n",
    "    {\"context\": itemgetter(\"question\") | retriever, \"question\": itemgetter(\"question\")}\n",
    "    | RunnablePassthrough.assign(context=itemgetter(\"context\"))\n",
    "    | {\"response\": rag_prompt | base_llm | StrOutputParser(), \"context\": itemgetter(\"context\")}\n",
    ")"
   ]
  },
  {
   "cell_type": "code",
   "execution_count": 24,
   "metadata": {},
   "outputs": [],
   "source": [
    "rag_chain = (\n",
    "    {\"context\": itemgetter(\"question\") | retriever, \"question\": itemgetter(\"question\")}\n",
    "    | RunnablePassthrough.assign(context=itemgetter(\"context\"))\n",
    "    |  rag_prompt | base_llm | StrOutputParser()\n",
    ")"
   ]
  },
  {
   "cell_type": "code",
   "execution_count": 91,
   "metadata": {},
   "outputs": [],
   "source": [
    "response = rag_chain.invoke({\"question\" : \"How are LLM agents useful?\"})"
   ]
  },
  {
   "cell_type": "code",
   "execution_count": 92,
   "metadata": {},
   "outputs": [
    {
     "data": {
      "text/plain": [
       "'The provided context does not contain any information about LLM agents or their usefulness. It focuses on specific rules and regulations related to the Residential Tenancies Act in Ontario. If you have questions about that act or related topics, feel free to ask!'"
      ]
     },
     "execution_count": 92,
     "metadata": {},
     "output_type": "execute_result"
    }
   ],
   "source": [
    "response"
   ]
  },
  {
   "cell_type": "code",
   "execution_count": 35,
   "metadata": {},
   "outputs": [
    {
     "data": {
      "text/plain": [
       "{'response': \"Whether a tenant can have pets depends on the specific rules set by the landlord or the rental agreement. The law allows landlords to restrict pets if they believe the animal could cause problems, such as being dangerous or causing allergies. However, if a tenant's pet does not cause any issues, the landlord cannot evict the tenant just because they have a pet. It's important for tenants to check their rental agreement and talk to their landlord about pet policies.\",\n",
       " 'context': [Document(metadata={'producer': 'Skia/PDF m133', 'creator': 'Mozilla/5.0 (Macintosh; Intel Mac OS X 10_15_7) AppleWebKit/537.36 (KHTML, like Gecko) Chrome/133.0.0.0 Safari/537.36', 'creationdate': '2025-02-21T00:14:15+00:00', 'title': 'Residential Tenancies Act, 2006, S.O. 2006, c. 17 | ontario.ca', 'moddate': '2025-02-21T00:14:15+00:00', 'source': 'data/Residential Tenancies Act, 2006, S.O. 2006, c. 17 _ ontario.ca.pdf', 'total_pages': 247, 'page': 5, 'page_label': '6', '_id': 'ce1cc42b-65c5-41df-974b-457397c4d77b', '_collection_name': 'ontario_ltb_toronto_guidance'}, page_content='(a)\\xa0 furniture, appliances and furnishings,\\n(b)\\xa0 parking and related facilities,\\n(c)\\xa0 laundry facilities,\\n(d)\\xa0 elevator facilities,\\n(e)\\xa0 common recreational facilities,\\n(f)\\xa0 garbage facilities and related services,\\n(g)\\xa0 cleaning and maintenance services,\\n(h)\\xa0 storage facilities,\\n(i)\\xa0 intercom systems,\\n(j)\\xa0 cable television facilities,\\n(k)\\xa0 heating facilities and services,\\n(l)\\xa0 air-conditioning facilities,\\n\\xa0 (m)\\xa0 utilities and related services, and\\n(n)\\xa0 security services and facilities; (“services et installations”)\\n“spouse” means a person,\\n(a)\\xa0 to whom the person is married, or\\n(b)\\xa0 with whom the person is living in a conjugal relationship outside marriage, if the\\ntwo persons,\\n(i)\\xa0 have cohabited for at least one year,\\n(ii)\\xa0 are together the parents of a child, or\\n(iii)\\xa0 have together entered into a cohabitation agreement under section 53 of the\\nFamily Law Act; (“conjoint”)\\n“subtenant” means the person to whom a tenant gives the right under section 97 to'),\n",
       "  Document(metadata={'producer': 'Skia/PDF m133', 'creator': 'Mozilla/5.0 (Macintosh; Intel Mac OS X 10_15_7) AppleWebKit/537.36 (KHTML, like Gecko) Chrome/133.0.0.0 Safari/537.36', 'creationdate': '2025-02-21T00:14:15+00:00', 'title': 'Residential Tenancies Act, 2006, S.O. 2006, c. 17 | ontario.ca', 'moddate': '2025-02-21T00:14:15+00:00', 'source': 'data/Residential Tenancies Act, 2006, S.O. 2006, c. 17 _ ontario.ca.pdf', 'total_pages': 247, 'page': 86, 'page_label': '87', '_id': '2eceb170-af6c-4407-b58b-89e9331b42df', '_collection_name': 'ontario_ltb_toronto_guidance'}, page_content='(c)\\xa0 the presence of an animal of that species or breed is inherently dangerous to the\\nsafety of the landlord or the other tenants.\\xa0 2006, c.\\xa017, s.\\xa076\\xa0(1).\\nSame\\n(2) The Board shall not make an order terminating the tenancy and evicting the tenant\\nrelying on clause (1) (a) if it is satisfied that the animal kept by the tenant did not cause or\\ncontribute to the substantial interference.\\xa0 2006, c.\\xa017, s.\\xa076\\xa0(2).\\nSame\\n(3) The Board shall not make an order terminating the tenancy and evicting the tenant\\nrelying on clause (1) (b) if it is satisfied that the animal kept by the tenant did not cause or\\ncontribute to the allergic reaction.\\xa0 2006, c.\\xa017, s.\\xa076\\xa0(3).\\nA PPLICATION  BY  L ANDLORD  – N O  N OTICE  OF  T ERMINATION\\nAgreement to terminate, tenant’s notice\\n77 (1) A landlord may, without notice to the tenant, apply to the Board for an order\\nterminating a tenancy and evicting the tenant if,\\n(a)\\xa0 the landlord and tenant have entered into an agreement to terminate the\\ntenancy; or'),\n",
       "  Document(metadata={'producer': 'Skia/PDF m133', 'creator': 'Mozilla/5.0 (Macintosh; Intel Mac OS X 10_15_7) AppleWebKit/537.36 (KHTML, like Gecko) Chrome/133.0.0.0 Safari/537.36', 'creationdate': '2025-02-21T00:14:15+00:00', 'title': 'Residential Tenancies Act, 2006, S.O. 2006, c. 17 | ontario.ca', 'moddate': '2025-02-21T00:14:15+00:00', 'source': 'data/Residential Tenancies Act, 2006, S.O. 2006, c. 17 _ ontario.ca.pdf', 'total_pages': 247, 'page': 6, 'page_label': '7', '_id': 'ef86bdf5-175b-4e16-955a-b8597587732a', '_collection_name': 'ontario_ltb_toronto_guidance'}, page_content='unit; (“convention de location”)\\n“tenant” includes a person who pays rent in return for the right to occupy a rental unit\\nand includes the tenant’s heirs, assigns and personal representatives, but “tenant”\\ndoes not include a person who has the right to occupy a rental unit by virtue of being,\\n(a)\\xa0 a co-owner of the residential complex in which the rental unit is located, or\\n(b)\\xa0 a shareholder of a corporation that owns the residential complex; (“locataire”)\\n“utilities” means heat, electricity and water; (“services d’utilité publique”)\\n“vital service” means hot or cold water, fuel, electricity, gas or, during the part of each\\nyear prescribed by the regulations, heat. (“service essentiel”)\\xa0 2006, c.\\xa017, s.\\xa02\\xa0(1); 2013,\\nc.\\xa03, s.\\xa021.\\nInterpretation, sublet\\n(2) For the purposes of this Act, a reference to subletting a rental unit refers to the\\nsituation in which,\\n(a)\\xa0 the tenant vacates the rental unit;\\n(b)\\xa0 the tenant gives one or more other persons the right to occupy the rental unit for'),\n",
       "  Document(metadata={'producer': 'Skia/PDF m133', 'creator': 'Mozilla/5.0 (Macintosh; Intel Mac OS X 10_15_7) AppleWebKit/537.36 (KHTML, like Gecko) Chrome/133.0.0.0 Safari/537.36', 'creationdate': '2025-02-21T00:14:15+00:00', 'title': 'Residential Tenancies Act, 2006, S.O. 2006, c. 17 | ontario.ca', 'moddate': '2025-02-21T00:14:15+00:00', 'source': 'data/Residential Tenancies Act, 2006, S.O. 2006, c. 17 _ ontario.ca.pdf', 'total_pages': 247, 'page': 238, 'page_label': '239', '_id': '5de84085-3a2d-4e61-83e6-e37b953dc05d', '_collection_name': 'ontario_ltb_toronto_guidance'}, page_content='of paragraph 4 of subsection 138 (4);\\n2/20/25, 7:14 PM Residential Tenancies Act, 2006, S.O. 2006, c. 17 | ontario.ca\\nhttps://www.ontario.ca/laws/statute/06r17 239/247'),\n",
       "  Document(metadata={'producer': 'Skia/PDF m133', 'creator': 'Mozilla/5.0 (Macintosh; Intel Mac OS X 10_15_7) AppleWebKit/537.36 (KHTML, like Gecko) Chrome/133.0.0.0 Safari/537.36', 'creationdate': '2025-02-21T00:14:15+00:00', 'title': 'Residential Tenancies Act, 2006, S.O. 2006, c. 17 | ontario.ca', 'moddate': '2025-02-21T00:14:15+00:00', 'source': 'data/Residential Tenancies Act, 2006, S.O. 2006, c. 17 _ ontario.ca.pdf', 'total_pages': 247, 'page': 18, 'page_label': '19', '_id': 'd09d6f84-65f7-4806-963f-8ca52e08a4c0', '_collection_name': 'ontario_ltb_toronto_guidance'}, page_content='funding. \\xa02006, c.\\xa017, s.\\xa07\\xa0(3).\\nException, subs. (1), par. 1\\n(4) Despite subsection (1), the provisions of this Act set out in that subsection apply with\\nrespect to a rental unit described in paragraph 1 of that subsection if the tenant occupying\\nthe rental unit pays rent to a landlord other than the Government of Canada or an agency\\nof the Government of Canada. 2020, c. 16, Sched. 3, s. 12 (2).\\nSame, subs. (1), par. 2\\n(5) Despite subsection (1), the provisions of this Act set out in that subsection apply with\\nrespect to a rental unit described in paragraph 2 of that subsection if the tenant occupying\\nthe rental unit pays rent to a landlord other than a service manager or local housing\\ncorporation as defined in the Housing Services Act, 2011 or an agency of either of them.\\n\\xa02006, c.\\xa017, s.\\xa07\\xa0(5); 2011, c.\\xa06, Sched.\\xa01, s.\\xa0188 (2); 2020, c. 16, Sched. 4, s. 3 (2).\\nSame, subs. (1), par. 5\\n(6) Despite subsection (1), the provisions of this Act set out in that subsection apply with')]}"
      ]
     },
     "execution_count": 35,
     "metadata": {},
     "output_type": "execute_result"
    }
   ],
   "source": [
    "rag_chain.invoke({\"question\" : \"Can tenant have pets?\"})"
   ]
  },
  {
   "cell_type": "markdown",
   "metadata": {},
   "source": [
    "## LangSmith"
   ]
  },
  {
   "cell_type": "code",
   "execution_count": 11,
   "metadata": {},
   "outputs": [
    {
     "ename": "LangSmithConflictError",
     "evalue": "Conflict for /datasets. HTTPError('409 Client Error: Conflict for url: https://api.smith.langchain.com/datasets', '{\"detail\":\"Dataset with this name already exists.\"}')",
     "output_type": "error",
     "traceback": [
      "\u001b[0;31m---------------------------------------------------------------------------\u001b[0m",
      "\u001b[0;31mHTTPError\u001b[0m                                 Traceback (most recent call last)",
      "File \u001b[0;32m~/miniconda3/envs/llmops-course/lib/python3.11/site-packages/langsmith/utils.py:150\u001b[0m, in \u001b[0;36mraise_for_status_with_text\u001b[0;34m(response)\u001b[0m\n\u001b[1;32m    149\u001b[0m \u001b[38;5;28;01mtry\u001b[39;00m:\n\u001b[0;32m--> 150\u001b[0m     \u001b[43mresponse\u001b[49m\u001b[38;5;241;43m.\u001b[39;49m\u001b[43mraise_for_status\u001b[49m\u001b[43m(\u001b[49m\u001b[43m)\u001b[49m\n\u001b[1;32m    151\u001b[0m \u001b[38;5;28;01mexcept\u001b[39;00m requests\u001b[38;5;241m.\u001b[39mHTTPError \u001b[38;5;28;01mas\u001b[39;00m e:\n",
      "File \u001b[0;32m~/miniconda3/envs/llmops-course/lib/python3.11/site-packages/requests/models.py:1024\u001b[0m, in \u001b[0;36mResponse.raise_for_status\u001b[0;34m(self)\u001b[0m\n\u001b[1;32m   1023\u001b[0m \u001b[38;5;28;01mif\u001b[39;00m http_error_msg:\n\u001b[0;32m-> 1024\u001b[0m     \u001b[38;5;28;01mraise\u001b[39;00m HTTPError(http_error_msg, response\u001b[38;5;241m=\u001b[39m\u001b[38;5;28mself\u001b[39m)\n",
      "\u001b[0;31mHTTPError\u001b[0m: 409 Client Error: Conflict for url: https://api.smith.langchain.com/datasets",
      "\nThe above exception was the direct cause of the following exception:\n",
      "\u001b[0;31mHTTPError\u001b[0m                                 Traceback (most recent call last)",
      "File \u001b[0;32m~/miniconda3/envs/llmops-course/lib/python3.11/site-packages/langsmith/client.py:763\u001b[0m, in \u001b[0;36mClient.request_with_retries\u001b[0;34m(self, method, pathname, request_kwargs, stop_after_attempt, retry_on, to_ignore, handle_response, _context, **kwargs)\u001b[0m\n\u001b[1;32m    753\u001b[0m     response \u001b[38;5;241m=\u001b[39m \u001b[38;5;28mself\u001b[39m\u001b[38;5;241m.\u001b[39msession\u001b[38;5;241m.\u001b[39mrequest(\n\u001b[1;32m    754\u001b[0m         method,\n\u001b[1;32m    755\u001b[0m         (\n\u001b[0;32m   (...)\u001b[0m\n\u001b[1;32m    761\u001b[0m         \u001b[38;5;241m*\u001b[39m\u001b[38;5;241m*\u001b[39mrequest_kwargs,\n\u001b[1;32m    762\u001b[0m     )\n\u001b[0;32m--> 763\u001b[0m \u001b[43mls_utils\u001b[49m\u001b[38;5;241;43m.\u001b[39;49m\u001b[43mraise_for_status_with_text\u001b[49m\u001b[43m(\u001b[49m\u001b[43mresponse\u001b[49m\u001b[43m)\u001b[49m\n\u001b[1;32m    764\u001b[0m \u001b[38;5;28;01mreturn\u001b[39;00m response\n",
      "File \u001b[0;32m~/miniconda3/envs/llmops-course/lib/python3.11/site-packages/langsmith/utils.py:152\u001b[0m, in \u001b[0;36mraise_for_status_with_text\u001b[0;34m(response)\u001b[0m\n\u001b[1;32m    151\u001b[0m \u001b[38;5;28;01mexcept\u001b[39;00m requests\u001b[38;5;241m.\u001b[39mHTTPError \u001b[38;5;28;01mas\u001b[39;00m e:\n\u001b[0;32m--> 152\u001b[0m     \u001b[38;5;28;01mraise\u001b[39;00m requests\u001b[38;5;241m.\u001b[39mHTTPError(\u001b[38;5;28mstr\u001b[39m(e), response\u001b[38;5;241m.\u001b[39mtext) \u001b[38;5;28;01mfrom\u001b[39;00m\u001b[38;5;250m \u001b[39m\u001b[38;5;21;01me\u001b[39;00m\n",
      "\u001b[0;31mHTTPError\u001b[0m: [Errno 409 Client Error: Conflict for url: https://api.smith.langchain.com/datasets] {\"detail\":\"Dataset with this name already exists.\"}",
      "\nDuring handling of the above exception, another exception occurred:\n",
      "\u001b[0;31mLangSmithConflictError\u001b[0m                    Traceback (most recent call last)",
      "Cell \u001b[0;32mIn[11], line 31\u001b[0m\n\u001b[1;32m     29\u001b[0m \u001b[38;5;66;03m# Create the dataset and examples in LangSmith\u001b[39;00m\n\u001b[1;32m     30\u001b[0m dataset_name \u001b[38;5;241m=\u001b[39m \u001b[38;5;124m\"\u001b[39m\u001b[38;5;124mOntario_LTB\u001b[39m\u001b[38;5;124m\"\u001b[39m\n\u001b[0;32m---> 31\u001b[0m dataset \u001b[38;5;241m=\u001b[39m \u001b[43mclient\u001b[49m\u001b[38;5;241;43m.\u001b[39;49m\u001b[43mcreate_dataset\u001b[49m\u001b[43m(\u001b[49m\u001b[43mdataset_name\u001b[49m\u001b[38;5;241;43m=\u001b[39;49m\u001b[43mdataset_name\u001b[49m\u001b[43m)\u001b[49m\n\u001b[1;32m     32\u001b[0m client\u001b[38;5;241m.\u001b[39mcreate_examples(\n\u001b[1;32m     33\u001b[0m     inputs\u001b[38;5;241m=\u001b[39m[{\u001b[38;5;124m\"\u001b[39m\u001b[38;5;124mquestion\u001b[39m\u001b[38;5;124m\"\u001b[39m: q} \u001b[38;5;28;01mfor\u001b[39;00m q, _ \u001b[38;5;129;01min\u001b[39;00m examples], \n\u001b[1;32m     34\u001b[0m     outputs\u001b[38;5;241m=\u001b[39m[{\u001b[38;5;124m\"\u001b[39m\u001b[38;5;124manswer\u001b[39m\u001b[38;5;124m\"\u001b[39m: a} \u001b[38;5;28;01mfor\u001b[39;00m _, a \u001b[38;5;129;01min\u001b[39;00m examples], \n\u001b[1;32m     35\u001b[0m     dataset_id\u001b[38;5;241m=\u001b[39mdataset\u001b[38;5;241m.\u001b[39mid,\n\u001b[1;32m     36\u001b[0m )\n",
      "File \u001b[0;32m~/miniconda3/envs/llmops-course/lib/python3.11/site-packages/langsmith/client.py:2817\u001b[0m, in \u001b[0;36mClient.create_dataset\u001b[0;34m(self, dataset_name, description, data_type, inputs_schema, outputs_schema, metadata)\u001b[0m\n\u001b[1;32m   2814\u001b[0m \u001b[38;5;28;01mif\u001b[39;00m outputs_schema \u001b[38;5;129;01mis\u001b[39;00m \u001b[38;5;129;01mnot\u001b[39;00m \u001b[38;5;28;01mNone\u001b[39;00m:\n\u001b[1;32m   2815\u001b[0m     dataset[\u001b[38;5;124m\"\u001b[39m\u001b[38;5;124moutputs_schema_definition\u001b[39m\u001b[38;5;124m\"\u001b[39m] \u001b[38;5;241m=\u001b[39m outputs_schema\n\u001b[0;32m-> 2817\u001b[0m response \u001b[38;5;241m=\u001b[39m \u001b[38;5;28;43mself\u001b[39;49m\u001b[38;5;241;43m.\u001b[39;49m\u001b[43mrequest_with_retries\u001b[49m\u001b[43m(\u001b[49m\n\u001b[1;32m   2818\u001b[0m \u001b[43m    \u001b[49m\u001b[38;5;124;43m\"\u001b[39;49m\u001b[38;5;124;43mPOST\u001b[39;49m\u001b[38;5;124;43m\"\u001b[39;49m\u001b[43m,\u001b[49m\n\u001b[1;32m   2819\u001b[0m \u001b[43m    \u001b[49m\u001b[38;5;124;43m\"\u001b[39;49m\u001b[38;5;124;43m/datasets\u001b[39;49m\u001b[38;5;124;43m\"\u001b[39;49m\u001b[43m,\u001b[49m\n\u001b[1;32m   2820\u001b[0m \u001b[43m    \u001b[49m\u001b[43mheaders\u001b[49m\u001b[38;5;241;43m=\u001b[39;49m\u001b[43m{\u001b[49m\u001b[38;5;241;43m*\u001b[39;49m\u001b[38;5;241;43m*\u001b[39;49m\u001b[38;5;28;43mself\u001b[39;49m\u001b[38;5;241;43m.\u001b[39;49m\u001b[43m_headers\u001b[49m\u001b[43m,\u001b[49m\u001b[43m \u001b[49m\u001b[38;5;124;43m\"\u001b[39;49m\u001b[38;5;124;43mContent-Type\u001b[39;49m\u001b[38;5;124;43m\"\u001b[39;49m\u001b[43m:\u001b[49m\u001b[43m \u001b[49m\u001b[38;5;124;43m\"\u001b[39;49m\u001b[38;5;124;43mapplication/json\u001b[39;49m\u001b[38;5;124;43m\"\u001b[39;49m\u001b[43m}\u001b[49m\u001b[43m,\u001b[49m\n\u001b[1;32m   2821\u001b[0m \u001b[43m    \u001b[49m\u001b[43mdata\u001b[49m\u001b[38;5;241;43m=\u001b[39;49m\u001b[43m_orjson\u001b[49m\u001b[38;5;241;43m.\u001b[39;49m\u001b[43mdumps\u001b[49m\u001b[43m(\u001b[49m\u001b[43mdataset\u001b[49m\u001b[43m)\u001b[49m\u001b[43m,\u001b[49m\n\u001b[1;32m   2822\u001b[0m \u001b[43m\u001b[49m\u001b[43m)\u001b[49m\n\u001b[1;32m   2823\u001b[0m ls_utils\u001b[38;5;241m.\u001b[39mraise_for_status_with_text(response)\n\u001b[1;32m   2825\u001b[0m \u001b[38;5;28;01mreturn\u001b[39;00m ls_schemas\u001b[38;5;241m.\u001b[39mDataset(\n\u001b[1;32m   2826\u001b[0m     \u001b[38;5;241m*\u001b[39m\u001b[38;5;241m*\u001b[39mresponse\u001b[38;5;241m.\u001b[39mjson(),\n\u001b[1;32m   2827\u001b[0m     _host_url\u001b[38;5;241m=\u001b[39m\u001b[38;5;28mself\u001b[39m\u001b[38;5;241m.\u001b[39m_host_url,\n\u001b[1;32m   2828\u001b[0m     _tenant_id\u001b[38;5;241m=\u001b[39m\u001b[38;5;28mself\u001b[39m\u001b[38;5;241m.\u001b[39m_get_optional_tenant_id(),\n\u001b[1;32m   2829\u001b[0m )\n",
      "File \u001b[0;32m~/miniconda3/envs/llmops-course/lib/python3.11/site-packages/langsmith/client.py:808\u001b[0m, in \u001b[0;36mClient.request_with_retries\u001b[0;34m(self, method, pathname, request_kwargs, stop_after_attempt, retry_on, to_ignore, handle_response, _context, **kwargs)\u001b[0m\n\u001b[1;32m    803\u001b[0m     \u001b[38;5;28;01mraise\u001b[39;00m ls_utils\u001b[38;5;241m.\u001b[39mLangSmithNotFoundError(\n\u001b[1;32m    804\u001b[0m         \u001b[38;5;124mf\u001b[39m\u001b[38;5;124m\"\u001b[39m\u001b[38;5;124mResource not found for \u001b[39m\u001b[38;5;132;01m{\u001b[39;00mpathname\u001b[38;5;132;01m}\u001b[39;00m\u001b[38;5;124m. \u001b[39m\u001b[38;5;132;01m{\u001b[39;00m\u001b[38;5;28mrepr\u001b[39m(e)\u001b[38;5;132;01m}\u001b[39;00m\u001b[38;5;124m\"\u001b[39m\n\u001b[1;32m    805\u001b[0m         \u001b[38;5;124mf\u001b[39m\u001b[38;5;124m\"\u001b[39m\u001b[38;5;132;01m{\u001b[39;00m_context\u001b[38;5;132;01m}\u001b[39;00m\u001b[38;5;124m\"\u001b[39m\n\u001b[1;32m    806\u001b[0m     )\n\u001b[1;32m    807\u001b[0m \u001b[38;5;28;01melif\u001b[39;00m response\u001b[38;5;241m.\u001b[39mstatus_code \u001b[38;5;241m==\u001b[39m \u001b[38;5;241m409\u001b[39m:\n\u001b[0;32m--> 808\u001b[0m     \u001b[38;5;28;01mraise\u001b[39;00m ls_utils\u001b[38;5;241m.\u001b[39mLangSmithConflictError(\n\u001b[1;32m    809\u001b[0m         \u001b[38;5;124mf\u001b[39m\u001b[38;5;124m\"\u001b[39m\u001b[38;5;124mConflict for \u001b[39m\u001b[38;5;132;01m{\u001b[39;00mpathname\u001b[38;5;132;01m}\u001b[39;00m\u001b[38;5;124m. \u001b[39m\u001b[38;5;132;01m{\u001b[39;00m\u001b[38;5;28mrepr\u001b[39m(e)\u001b[38;5;132;01m}\u001b[39;00m\u001b[38;5;124m\"\u001b[39m \u001b[38;5;124mf\u001b[39m\u001b[38;5;124m\"\u001b[39m\u001b[38;5;132;01m{\u001b[39;00m_context\u001b[38;5;132;01m}\u001b[39;00m\u001b[38;5;124m\"\u001b[39m\n\u001b[1;32m    810\u001b[0m     )\n\u001b[1;32m    811\u001b[0m \u001b[38;5;28;01melse\u001b[39;00m:\n\u001b[1;32m    812\u001b[0m     \u001b[38;5;28;01mraise\u001b[39;00m ls_utils\u001b[38;5;241m.\u001b[39mLangSmithError(\n\u001b[1;32m    813\u001b[0m         \u001b[38;5;124mf\u001b[39m\u001b[38;5;124m\"\u001b[39m\u001b[38;5;124mFailed to \u001b[39m\u001b[38;5;132;01m{\u001b[39;00mmethod\u001b[38;5;132;01m}\u001b[39;00m\u001b[38;5;124m \u001b[39m\u001b[38;5;132;01m{\u001b[39;00mpathname\u001b[38;5;132;01m}\u001b[39;00m\u001b[38;5;124m in LangSmith\u001b[39m\u001b[38;5;124m\"\u001b[39m\n\u001b[1;32m    814\u001b[0m         \u001b[38;5;124mf\u001b[39m\u001b[38;5;124m\"\u001b[39m\u001b[38;5;124m API. \u001b[39m\u001b[38;5;132;01m{\u001b[39;00m\u001b[38;5;28mrepr\u001b[39m(e)\u001b[38;5;132;01m}\u001b[39;00m\u001b[38;5;124m\"\u001b[39m\n\u001b[1;32m    815\u001b[0m     )\n",
      "\u001b[0;31mLangSmithConflictError\u001b[0m: Conflict for /datasets. HTTPError('409 Client Error: Conflict for url: https://api.smith.langchain.com/datasets', '{\"detail\":\"Dataset with this name already exists.\"}')"
     ]
    }
   ],
   "source": [
    "from langsmith import Client\n",
    "\n",
    "client = Client()\n",
    "\n",
    "# Define the examples for the dataset\n",
    "examples = [\n",
    "    (\n",
    "        \"Can my landlord enter my apartment without my permission?\",\n",
    "        \"The landlord need to give written 24 hour notice\",\n",
    "    ),\n",
    "    (\n",
    "        \"What can I do if my landlord refuses to make necessary repairs?\",\n",
    "        \"If the tenant tells the landlord about a problem and the landlord doesn't fix it, doesn't fix it properly or doesn't fix it quickly enough, a tenant can file a Tenant Application about Maintenance (Form T6) with the LTB. When the application is filed, a hearing will be scheduled.\",\n",
    "    ),\n",
    "    (\n",
    "        \"Does my lease automatically renew when it expires?\",\n",
    "        \"The end of a fixed term tenancy or lease does not mean that the tenant has to move out or sign a renewal or new lease in order to stay. The lease is renewed automatically on a month-to-month basis (if the rent is paid monthly) or week-to-week basis (if rent is paid weekly).\",\n",
    "    ),\n",
    "    (\n",
    "        \"Can my landlord help with noisy neighbors?\",\n",
    "        \"Sometimes it is other tenants living in the same building who are causing the disturbance, not the landlord. However, landlords have a positive obligation to provide quiet enjoyment and take reasonable action to address another tenant's conduct that disturbs the complaining tenant.\",\n",
    "    ),\n",
    "    (\n",
    "        \"How much can my landlord increase my rent, and with how much notice?\",\n",
    "        \"In Ontario, the landlord can increase the rent by a maximum of rate set by the rent increase guideline. Need to give 90 day notice\",\n",
    "    )\n",
    "]\n",
    "\n",
    "# Create the dataset and examples in LangSmith\n",
    "dataset_name = \"Ontario_LTB\"\n",
    "dataset = client.create_dataset(dataset_name=dataset_name)\n",
    "client.create_examples(\n",
    "    inputs=[{\"question\": q} for q, _ in examples], \n",
    "    outputs=[{\"answer\": a} for _, a in examples], \n",
    "    dataset_id=dataset.id,\n",
    ")"
   ]
  },
  {
   "cell_type": "markdown",
   "metadata": {},
   "source": [
    "## LangSmith Evaluation Set-up\n",
    "\n",
    "We'll use OpenAI's GPT-4o as our evaluation LLM for our base Evaluators."
   ]
  },
  {
   "cell_type": "code",
   "execution_count": 12,
   "metadata": {},
   "outputs": [],
   "source": [
    "eval_llm = ChatOpenAI(model=\"gpt-4o-mini\")"
   ]
  },
  {
   "cell_type": "code",
   "execution_count": 13,
   "metadata": {},
   "outputs": [],
   "source": [
    "from typing_extensions import Annotated, TypedDict\n",
    "\n",
    "# Grade output schema\n",
    "class CorrectnessGrade(TypedDict):\n",
    "    # Note that the order in the fields are defined is the order in which the model will generate them.\n",
    "    # It is useful to put explanations before responses because it forces the model to think through\n",
    "    # its final response before generating it:\n",
    "    explanation: Annotated[str, ..., \"Explain your reasoning for the score\"]\n",
    "    correct: Annotated[bool, ..., \"True if the answer is correct, False otherwise.\"]\n",
    "\n",
    "# Grade prompt\n",
    "correctness_instructions = \"\"\"You are a teacher grading a quiz. \n",
    "\n",
    "You will be given a QUESTION, the GROUND TRUTH (correct) ANSWER, and the STUDENT ANSWER. \n",
    "\n",
    "Here is the grade criteria to follow:\n",
    "(1) Grade the student answers based ONLY on their factual accuracy relative to the ground truth answer. \n",
    "(2) Ensure that the student answer does not contain any conflicting statements.\n",
    "(3) It is OK if the student answer contains more information than the ground truth answer, as long as it is factually accurate relative to the  ground truth answer.\n",
    "\n",
    "Correctness:\n",
    "A correctness value of True means that the student's answer meets all of the criteria.\n",
    "A correctness value of False means that the student's answer does not meet all of the criteria.\n",
    "\n",
    "Explain your reasoning in a step-by-step manner to ensure your reasoning and conclusion are correct. \n",
    "\n",
    "Avoid simply stating the correct answer at the outset.\"\"\"\n",
    "\n",
    "# Grader LLM\n",
    "grader_llm = ChatOpenAI(model=\"gpt-4o-mini\", temperature=0).with_structured_output(CorrectnessGrade, method=\"json_schema\", strict=True)\n",
    "\n",
    "def correctness(inputs: dict, outputs: dict, reference_outputs: dict) -> bool:\n",
    "    \"\"\"An evaluator for RAG answer accuracy\"\"\"\n",
    "    answers = f\"\"\"      QUESTION: {inputs['question']}\n",
    "    GROUND TRUTH ANSWER: {reference_outputs['answer']}\n",
    "    STUDENT ANSWER: {outputs[\"output\"]}\"\"\"\n",
    "\n",
    "    # Run evaluator\n",
    "    grade = grader_llm.invoke([{\"role\": \"system\", \"content\": correctness_instructions}, {\"role\": \"user\", \"content\": answers}])\n",
    "    return grade[\"correct\"]\n",
    "\n",
    "# Grade output schema\n",
    "class RelevanceGrade(TypedDict):\n",
    "    explanation: Annotated[str, ..., \"Explain your reasoning for the score\"]\n",
    "    relevant: Annotated[bool, ..., \"Provide the score on whether the answer addresses the question\"]\n",
    "\n",
    "# Grade prompt\n",
    "relevance_instructions=\"\"\"You are a teacher grading a quiz. \n",
    "\n",
    "You will be given a QUESTION and a STUDENT ANSWER. \n",
    "\n",
    "Here is the grade criteria to follow:\n",
    "(1) Ensure the STUDENT ANSWER is concise and relevant to the QUESTION\n",
    "(2) Ensure the STUDENT ANSWER helps to answer the QUESTION\n",
    "\n",
    "Relevance:\n",
    "A relevance value of True means that the student's answer meets all of the criteria.\n",
    "A relevance value of False means that the student's answer does not meet all of the criteria.\n",
    "\n",
    "Explain your reasoning in a step-by-step manner to ensure your reasoning and conclusion are correct. \n",
    "\n",
    "Avoid simply stating the correct answer at the outset.\"\"\"\n",
    "\n",
    "# Grader LLM\n",
    "relevance_llm = ChatOpenAI(model=\"gpt-4o-mini\", temperature=0).with_structured_output(RelevanceGrade, method=\"json_schema\", strict=True)\n",
    "\n",
    "# Evaluator\n",
    "def relevance(inputs: dict, outputs: dict) -> bool:\n",
    "    \"\"\"A simple evaluator for RAG answer helpfulness.\"\"\"\n",
    "    answer = f\"\"\"      QUESTION: {inputs['question']}\n",
    "    STUDENT ANSWER: {outputs[\"output\"]}\"\"\"\n",
    "    grade = relevance_llm.invoke([{\"role\": \"system\", \"content\": relevance_instructions}, {\"role\": \"user\", \"content\": answer}])\n",
    "    return grade[\"relevant\"]\n"
   ]
  },
  {
   "cell_type": "markdown",
   "metadata": {},
   "source": [
    "We'll be using a number of evaluators - from LangSmith provided evaluators, to a few custom evaluators!"
   ]
  },
  {
   "cell_type": "code",
   "execution_count": 14,
   "metadata": {},
   "outputs": [],
   "source": [
    "from langsmith.evaluation import LangChainStringEvaluator, evaluate\n",
    "\n",
    "qa_evaluator = LangChainStringEvaluator(\"qa\", config={\"llm\" : eval_llm})\n",
    "\n",
    "labeled_helpfulness_evaluator = LangChainStringEvaluator(\n",
    "    \"labeled_criteria\",\n",
    "    config={\n",
    "        \"criteria\": {\n",
    "            \"helpfulness\": (\n",
    "                \"Is this submission helpful to the user,\"\n",
    "                \" taking into account the correct reference answer?\"\n",
    "            )\n",
    "        },\n",
    "        \"llm\" : eval_llm\n",
    "    },\n",
    "    prepare_data=lambda run, example: {\n",
    "        \"prediction\": run.outputs[\"output\"],\n",
    "        \"reference\": example.outputs[\"answer\"],\n",
    "        \"input\": example.inputs[\"question\"],\n",
    "    }\n",
    ")"
   ]
  },
  {
   "cell_type": "code",
   "execution_count": 15,
   "metadata": {},
   "outputs": [],
   "source": [
    "from langsmith import traceable\n",
    "\n",
    "@traceable()\n",
    "def rag_bot(question: str) -> dict:\n",
    "    # LangChain retriever will be automatically traced\n",
    "    response = rag_chain.invoke(question)\n",
    "\n",
    "    return response"
   ]
  },
  {
   "cell_type": "code",
   "execution_count": 16,
   "metadata": {},
   "outputs": [],
   "source": [
    "def target(inputs: dict) -> dict:\n",
    "    return rag_bot(inputs[\"question\"])"
   ]
  },
  {
   "cell_type": "markdown",
   "metadata": {},
   "source": [
    "## LangSmith Evaluation"
   ]
  },
  {
   "cell_type": "code",
   "execution_count": 25,
   "metadata": {},
   "outputs": [
    {
     "name": "stdout",
     "output_type": "stream",
     "text": [
      "View the evaluation results for experiment: 'aie5_midterm_prototype-a964051d' at:\n",
      "https://smith.langchain.com/o/d0d88943-eeab-4eae-90cc-8ae8385f454e/datasets/60d7ce11-9d68-44b8-838a-d6f34fa50b11/compare?selectedSessions=c7400381-62aa-40c0-9996-d6e7e8b83b91\n",
      "\n",
      "\n"
     ]
    },
    {
     "data": {
      "application/vnd.jupyter.widget-view+json": {
       "model_id": "d76c457d11dc4eeda8c53e059282e69a",
       "version_major": 2,
       "version_minor": 0
      },
      "text/plain": [
       "0it [00:00, ?it/s]"
      ]
     },
     "metadata": {},
     "output_type": "display_data"
    },
    {
     "data": {
      "text/html": [
       "<div>\n",
       "<style scoped>\n",
       "    .dataframe tbody tr th:only-of-type {\n",
       "        vertical-align: middle;\n",
       "    }\n",
       "\n",
       "    .dataframe tbody tr th {\n",
       "        vertical-align: top;\n",
       "    }\n",
       "\n",
       "    .dataframe thead th {\n",
       "        text-align: right;\n",
       "    }\n",
       "</style>\n",
       "<table border=\"1\" class=\"dataframe\">\n",
       "  <thead>\n",
       "    <tr style=\"text-align: right;\">\n",
       "      <th></th>\n",
       "      <th>inputs.question</th>\n",
       "      <th>outputs.output</th>\n",
       "      <th>error</th>\n",
       "      <th>reference.answer</th>\n",
       "      <th>feedback.correctness</th>\n",
       "      <th>feedback.helpfulness</th>\n",
       "      <th>feedback.relevance</th>\n",
       "      <th>execution_time</th>\n",
       "      <th>example_id</th>\n",
       "      <th>id</th>\n",
       "    </tr>\n",
       "  </thead>\n",
       "  <tbody>\n",
       "    <tr>\n",
       "      <th>0</th>\n",
       "      <td>Can my landlord enter my apartment without my ...</td>\n",
       "      <td>No, your landlord cannot enter your apartment ...</td>\n",
       "      <td>None</td>\n",
       "      <td>The landlord need to give written 24 hour notice</td>\n",
       "      <td>True</td>\n",
       "      <td>0</td>\n",
       "      <td>True</td>\n",
       "      <td>2.049954</td>\n",
       "      <td>3778a8b0-2088-4d7e-82b3-c4044b494503</td>\n",
       "      <td>4bdc1f21-f474-4229-9f8c-6a45b5750d1d</td>\n",
       "    </tr>\n",
       "    <tr>\n",
       "      <th>1</th>\n",
       "      <td>Can my landlord help with noisy neighbors?</td>\n",
       "      <td>Yes, your landlord can help with noisy neighbo...</td>\n",
       "      <td>None</td>\n",
       "      <td>Sometimes it is other tenants living in the sa...</td>\n",
       "      <td>True</td>\n",
       "      <td>1</td>\n",
       "      <td>True</td>\n",
       "      <td>2.270610</td>\n",
       "      <td>48549b41-709f-4076-ae63-3cc981c9ba31</td>\n",
       "      <td>b9fd36ce-55b0-46f7-ab78-078f78319e5a</td>\n",
       "    </tr>\n",
       "    <tr>\n",
       "      <th>2</th>\n",
       "      <td>How much can my landlord increase my rent, and...</td>\n",
       "      <td>Your landlord can increase your rent, but ther...</td>\n",
       "      <td>None</td>\n",
       "      <td>In Ontario, the landlord can increase the rent...</td>\n",
       "      <td>False</td>\n",
       "      <td>0</td>\n",
       "      <td>True</td>\n",
       "      <td>4.354469</td>\n",
       "      <td>a3b2b2df-809f-4245-857b-170d1ba0ba8e</td>\n",
       "      <td>e331a85c-0e68-48a1-ac90-ada5cf051f0e</td>\n",
       "    </tr>\n",
       "    <tr>\n",
       "      <th>3</th>\n",
       "      <td>Does my lease automatically renew when it expi...</td>\n",
       "      <td>Yes, your lease can automatically renew when i...</td>\n",
       "      <td>None</td>\n",
       "      <td>The end of a fixed term tenancy or lease does ...</td>\n",
       "      <td>True</td>\n",
       "      <td>1</td>\n",
       "      <td>True</td>\n",
       "      <td>3.512074</td>\n",
       "      <td>208d576b-b8b8-4eef-a6ab-c302b0b22c2f</td>\n",
       "      <td>8ac243ec-f7c0-4a05-a2cd-1e51dfc9b7fb</td>\n",
       "    </tr>\n",
       "    <tr>\n",
       "      <th>4</th>\n",
       "      <td>What can I do if my landlord refuses to make n...</td>\n",
       "      <td>If your landlord refuses to make necessary rep...</td>\n",
       "      <td>None</td>\n",
       "      <td>If the tenant tells the landlord about a probl...</td>\n",
       "      <td>True</td>\n",
       "      <td>0</td>\n",
       "      <td>True</td>\n",
       "      <td>3.527130</td>\n",
       "      <td>eeaaa017-f8f8-4f4f-b1cb-8123f3ec6595</td>\n",
       "      <td>01015f47-2bb4-41e8-98d9-24e95a31371d</td>\n",
       "    </tr>\n",
       "  </tbody>\n",
       "</table>\n",
       "</div>"
      ],
      "text/plain": [
       "<ExperimentResults aie5_midterm_prototype-a964051d>"
      ]
     },
     "execution_count": 25,
     "metadata": {},
     "output_type": "execute_result"
    }
   ],
   "source": [
    "evaluate(\n",
    "    rag_chain.invoke,\n",
    "    data=dataset_name,\n",
    "    evaluators=[\n",
    "        qa_evaluator,\n",
    "        labeled_helpfulness_evaluator,\n",
    "        correctness, \n",
    "        relevance\n",
    "    ],\n",
    "    experiment_prefix=\"aie5_midterm_prototype\",\n",
    "    metadata={\"revision_id\": \"default_chain_init\"},\n",
    ")"
   ]
  },
  {
   "cell_type": "code",
   "execution_count": 28,
   "metadata": {},
   "outputs": [
    {
     "name": "stdout",
     "output_type": "stream",
     "text": [
      "View the evaluation results for experiment: 'aie5_midterm_ft-5e89610b' at:\n",
      "https://smith.langchain.com/o/d0d88943-eeab-4eae-90cc-8ae8385f454e/datasets/60d7ce11-9d68-44b8-838a-d6f34fa50b11/compare?selectedSessions=e261dcd1-f72e-441c-b676-a3fad49a9363\n",
      "\n",
      "\n"
     ]
    },
    {
     "data": {
      "application/vnd.jupyter.widget-view+json": {
       "model_id": "c24217c3752542d595261c09d07c7827",
       "version_major": 2,
       "version_minor": 0
      },
      "text/plain": [
       "0it [00:00, ?it/s]"
      ]
     },
     "metadata": {},
     "output_type": "display_data"
    },
    {
     "data": {
      "text/html": [
       "<div>\n",
       "<style scoped>\n",
       "    .dataframe tbody tr th:only-of-type {\n",
       "        vertical-align: middle;\n",
       "    }\n",
       "\n",
       "    .dataframe tbody tr th {\n",
       "        vertical-align: top;\n",
       "    }\n",
       "\n",
       "    .dataframe thead th {\n",
       "        text-align: right;\n",
       "    }\n",
       "</style>\n",
       "<table border=\"1\" class=\"dataframe\">\n",
       "  <thead>\n",
       "    <tr style=\"text-align: right;\">\n",
       "      <th></th>\n",
       "      <th>inputs.question</th>\n",
       "      <th>outputs.output</th>\n",
       "      <th>error</th>\n",
       "      <th>reference.answer</th>\n",
       "      <th>feedback.correctness</th>\n",
       "      <th>feedback.helpfulness</th>\n",
       "      <th>feedback.relevance</th>\n",
       "      <th>execution_time</th>\n",
       "      <th>example_id</th>\n",
       "      <th>id</th>\n",
       "    </tr>\n",
       "  </thead>\n",
       "  <tbody>\n",
       "    <tr>\n",
       "      <th>0</th>\n",
       "      <td>Can my landlord enter my apartment without my ...</td>\n",
       "      <td>No, your landlord cannot enter your apartment ...</td>\n",
       "      <td>None</td>\n",
       "      <td>The landlord need to give written 24 hour notice</td>\n",
       "      <td>True</td>\n",
       "      <td>0</td>\n",
       "      <td>True</td>\n",
       "      <td>2.294301</td>\n",
       "      <td>3778a8b0-2088-4d7e-82b3-c4044b494503</td>\n",
       "      <td>edbded78-b421-483f-99c7-f5a11d32ebd0</td>\n",
       "    </tr>\n",
       "    <tr>\n",
       "      <th>1</th>\n",
       "      <td>How much can my landlord increase my rent, and...</td>\n",
       "      <td>Your landlord can only increase your rent by a...</td>\n",
       "      <td>None</td>\n",
       "      <td>In Ontario, the landlord can increase the rent...</td>\n",
       "      <td>True</td>\n",
       "      <td>0</td>\n",
       "      <td>False</td>\n",
       "      <td>2.277027</td>\n",
       "      <td>a3b2b2df-809f-4245-857b-170d1ba0ba8e</td>\n",
       "      <td>8c621ff2-5131-4f89-861c-c28926c4037d</td>\n",
       "    </tr>\n",
       "    <tr>\n",
       "      <th>2</th>\n",
       "      <td>Can my landlord help with noisy neighbors?</td>\n",
       "      <td>Yes, your landlord can help with noisy neighbo...</td>\n",
       "      <td>None</td>\n",
       "      <td>Sometimes it is other tenants living in the sa...</td>\n",
       "      <td>True</td>\n",
       "      <td>1</td>\n",
       "      <td>True</td>\n",
       "      <td>4.323969</td>\n",
       "      <td>48549b41-709f-4076-ae63-3cc981c9ba31</td>\n",
       "      <td>0421a81e-10ae-486d-b013-d14e561dcf90</td>\n",
       "    </tr>\n",
       "    <tr>\n",
       "      <th>3</th>\n",
       "      <td>What can I do if my landlord refuses to make n...</td>\n",
       "      <td>If your landlord refuses to make necessary rep...</td>\n",
       "      <td>None</td>\n",
       "      <td>If the tenant tells the landlord about a probl...</td>\n",
       "      <td>True</td>\n",
       "      <td>1</td>\n",
       "      <td>True</td>\n",
       "      <td>4.677866</td>\n",
       "      <td>eeaaa017-f8f8-4f4f-b1cb-8123f3ec6595</td>\n",
       "      <td>3cdbe493-ad2a-4455-a96c-4fda1e083654</td>\n",
       "    </tr>\n",
       "    <tr>\n",
       "      <th>4</th>\n",
       "      <td>Does my lease automatically renew when it expi...</td>\n",
       "      <td>Yes, your lease will automatically renew when ...</td>\n",
       "      <td>None</td>\n",
       "      <td>The end of a fixed term tenancy or lease does ...</td>\n",
       "      <td>True</td>\n",
       "      <td>1</td>\n",
       "      <td>True</td>\n",
       "      <td>2.487856</td>\n",
       "      <td>208d576b-b8b8-4eef-a6ab-c302b0b22c2f</td>\n",
       "      <td>f5efd2b2-1aeb-4c41-ae59-e8e164e429e4</td>\n",
       "    </tr>\n",
       "  </tbody>\n",
       "</table>\n",
       "</div>"
      ],
      "text/plain": [
       "<ExperimentResults aie5_midterm_ft-5e89610b>"
      ]
     },
     "execution_count": 28,
     "metadata": {},
     "output_type": "execute_result"
    }
   ],
   "source": [
    "evaluate(\n",
    "    rag_chain.invoke,\n",
    "    data=dataset_name,\n",
    "    evaluators=[\n",
    "        qa_evaluator,\n",
    "        labeled_helpfulness_evaluator,\n",
    "        correctness, \n",
    "        relevance\n",
    "    ],\n",
    "    experiment_prefix=\"aie5_midterm_ft\",\n",
    "    metadata={\"revision_id\": \"default_chain_init\"},\n",
    ")"
   ]
  },
  {
   "cell_type": "markdown",
   "metadata": {},
   "source": [
    "## Evaluate RAG chain using RAGAS"
   ]
  },
  {
   "cell_type": "code",
   "execution_count": 19,
   "metadata": {},
   "outputs": [],
   "source": [
    "from ragas.llms import LangchainLLMWrapper\n",
    "from ragas.embeddings import LangchainEmbeddingsWrapper\n",
    "from langchain_openai import ChatOpenAI\n",
    "from langchain_openai import OpenAIEmbeddings\n",
    "generator_llm = LangchainLLMWrapper(ChatOpenAI(model=\"gpt-4o-mini\"))\n",
    "generator_embeddings = LangchainEmbeddingsWrapper(OpenAIEmbeddings(model=\"text-embedding-3-small\"))"
   ]
  },
  {
   "cell_type": "code",
   "execution_count": 20,
   "metadata": {},
   "outputs": [
    {
     "name": "stdout",
     "output_type": "stream",
     "text": [
      "Loaded PDFs\n"
     ]
    }
   ],
   "source": [
    "from langchain_community.document_loaders import PyPDFDirectoryLoader\n",
    "path=\"data/\"\n",
    "loader = PyPDFDirectoryLoader(path, glob=\"*.pdf\")\n",
    "pdf_docs = loader.load()\n",
    "print(\"Loaded PDFs\")"
   ]
  },
  {
   "cell_type": "code",
   "execution_count": 9,
   "metadata": {},
   "outputs": [
    {
     "data": {
      "text/plain": [
       "247"
      ]
     },
     "execution_count": 9,
     "metadata": {},
     "output_type": "execute_result"
    }
   ],
   "source": [
    "len(pdf_docs)"
   ]
  },
  {
   "cell_type": "code",
   "execution_count": 30,
   "metadata": {},
   "outputs": [
    {
     "data": {
      "text/plain": [
       "Document(metadata={'producer': 'Skia/PDF m133', 'creator': 'Mozilla/5.0 (Macintosh; Intel Mac OS X 10_15_7) AppleWebKit/537.36 (KHTML, like Gecko) Chrome/133.0.0.0 Safari/537.36', 'creationdate': '2025-02-21T00:14:15+00:00', 'title': 'Residential Tenancies Act, 2006, S.O. 2006, c. 17 | ontario.ca', 'moddate': '2025-02-21T00:14:15+00:00', 'source': 'data/Residential Tenancies Act, 2006, S.O. 2006, c. 17 _ ontario.ca.pdf', 'total_pages': 247, 'page': 10, 'page_label': '11'}, page_content='(iii)\\xa0 the living accommodation or residential complex is forfeited corporate\\nproperty to which the Forfeited Corporate Property Act, 2015 applies; and\\n(n)\\xa0 any other prescribed class of accommodation. \\xa02006, c.\\xa017, s.\\xa05; 2007, c.\\xa08, s.\\xa0226;\\n2007, c.\\xa013, s.\\xa048; 2008, c.\\xa014, s.\\xa058 (2, 4); 2009, c.\\xa033, Sched.\\xa018, s.\\xa030; 2013, c.\\xa03, s.\\xa024;\\n2015, c. 38, Sched. 7, s. 60; 2017, c. 14, Sched. 4, s. 33; 2021, c. 4, Sched. 11, s. 31 (2);\\n2021, c. 39, Sched. 2, s. 24.\\nSection Amendments with date in force (d/m/y)\\nOther exemption from Act\\n5.1 (1) This Act does not apply with respect to living accommodation provided to a person\\nas part of a program described in subsection (2) if the person and the provider of the\\nliving accommodation have entered into a written agreement that complies with\\nsubsection (3). 2017, c. 13, s. 2.\\nProgram requirements\\n(2) A program referred to in subsection (1) is a program that meets all of the following\\nrequirements:\\n1.\\xa0 The program consists of the provision of living accommodation and accompanying\\nservices where,\\ni.\\xa0 the living accommodation is intended to be provided for no more than a four-\\nyear period, and\\xa0\\nii.\\xa0 the accompanying services include one or more of the following services,\\nregardless of where and by whom the services are provided:\\nA.\\xa0 rehabilitative services,\\nB.\\xa0 therapeutic services,\\nC.\\xa0 services intended to support employment, or\\nD.\\xa0 services intended to support life skills development.\\n2.\\xa0 The program is intended to support the occupant of the living accommodation in\\nsubsequently obtaining and maintaining more permanent living accommodation.\\n3.\\xa0 All or part of the program is,\\ni.\\xa0 provided by, or funded under an agreement with,\\n⌃\\n2/20/25, 7:14 PM Residential Tenancies Act, 2006, S.O. 2006, c. 17 | ontario.ca\\nhttps://www.ontario.ca/laws/statute/06r17 11/247')"
      ]
     },
     "execution_count": 30,
     "metadata": {},
     "output_type": "execute_result"
    }
   ],
   "source": [
    "pdf_docs[10]"
   ]
  },
  {
   "cell_type": "code",
   "execution_count": 23,
   "metadata": {},
   "outputs": [],
   "source": [
    "mini_set = pdf_docs[3:10]"
   ]
  },
  {
   "cell_type": "code",
   "execution_count": 24,
   "metadata": {},
   "outputs": [
    {
     "data": {
      "application/vnd.jupyter.widget-view+json": {
       "model_id": "a93e64c6ed89472ebe90583e5ca908fb",
       "version_major": 2,
       "version_minor": 0
      },
      "text/plain": [
       "Applying HeadlinesExtractor:   0%|          | 0/4 [00:00<?, ?it/s]"
      ]
     },
     "metadata": {},
     "output_type": "display_data"
    },
    {
     "data": {
      "application/vnd.jupyter.widget-view+json": {
       "model_id": "63c2250a65944886bc21bfc6e701661f",
       "version_major": 2,
       "version_minor": 0
      },
      "text/plain": [
       "Applying HeadlineSplitter:   0%|          | 0/7 [00:00<?, ?it/s]"
      ]
     },
     "metadata": {},
     "output_type": "display_data"
    },
    {
     "name": "stderr",
     "output_type": "stream",
     "text": [
      "unable to apply transformation: 'headlines' property not found in this node\n",
      "unable to apply transformation: 'headlines' property not found in this node\n",
      "unable to apply transformation: 'headlines' property not found in this node\n"
     ]
    },
    {
     "data": {
      "application/vnd.jupyter.widget-view+json": {
       "model_id": "13102fa6c6e842b6be7ca27accd5e775",
       "version_major": 2,
       "version_minor": 0
      },
      "text/plain": [
       "Applying SummaryExtractor:   0%|          | 0/8 [00:00<?, ?it/s]"
      ]
     },
     "metadata": {},
     "output_type": "display_data"
    },
    {
     "name": "stderr",
     "output_type": "stream",
     "text": [
      "Property 'summary' already exists in node 'a0d369'. Skipping!\n",
      "Property 'summary' already exists in node 'df06d1'. Skipping!\n",
      "Property 'summary' already exists in node '19c732'. Skipping!\n",
      "Property 'summary' already exists in node '35312b'. Skipping!\n"
     ]
    },
    {
     "data": {
      "application/vnd.jupyter.widget-view+json": {
       "model_id": "0ddae08a791048efa65cce6dd395c125",
       "version_major": 2,
       "version_minor": 0
      },
      "text/plain": [
       "Applying CustomNodeFilter: 0it [00:00, ?it/s]"
      ]
     },
     "metadata": {},
     "output_type": "display_data"
    },
    {
     "data": {
      "application/vnd.jupyter.widget-view+json": {
       "model_id": "225a80b662704184a0d118b0ab8cae3b",
       "version_major": 2,
       "version_minor": 0
      },
      "text/plain": [
       "Applying [EmbeddingExtractor, ThemesExtractor, NERExtractor]:   0%|          | 0/8 [00:00<?, ?it/s]"
      ]
     },
     "metadata": {},
     "output_type": "display_data"
    },
    {
     "name": "stderr",
     "output_type": "stream",
     "text": [
      "Property 'summary_embedding' already exists in node 'df06d1'. Skipping!\n",
      "Property 'summary_embedding' already exists in node '35312b'. Skipping!\n",
      "Property 'summary_embedding' already exists in node '19c732'. Skipping!\n",
      "Property 'summary_embedding' already exists in node 'a0d369'. Skipping!\n"
     ]
    },
    {
     "data": {
      "application/vnd.jupyter.widget-view+json": {
       "model_id": "2498e0a2c14042d2a896c05ba2dcd46c",
       "version_major": 2,
       "version_minor": 0
      },
      "text/plain": [
       "Applying [CosineSimilarityBuilder, OverlapScoreBuilder]:   0%|          | 0/2 [00:00<?, ?it/s]"
      ]
     },
     "metadata": {},
     "output_type": "display_data"
    },
    {
     "data": {
      "application/vnd.jupyter.widget-view+json": {
       "model_id": "88a78f5a728b4b468e4266aecffaefd2",
       "version_major": 2,
       "version_minor": 0
      },
      "text/plain": [
       "Generating personas:   0%|          | 0/3 [00:00<?, ?it/s]"
      ]
     },
     "metadata": {},
     "output_type": "display_data"
    },
    {
     "data": {
      "application/vnd.jupyter.widget-view+json": {
       "model_id": "8d2c9224a2494935a1d9d4ad8dab9208",
       "version_major": 2,
       "version_minor": 0
      },
      "text/plain": [
       "Generating Scenarios:   0%|          | 0/1 [00:00<?, ?it/s]"
      ]
     },
     "metadata": {},
     "output_type": "display_data"
    },
    {
     "data": {
      "application/vnd.jupyter.widget-view+json": {
       "model_id": "5621342636524a10bef2cf9d53b5babe",
       "version_major": 2,
       "version_minor": 0
      },
      "text/plain": [
       "Generating Samples: 0it [00:00, ?it/s]"
      ]
     },
     "metadata": {},
     "output_type": "display_data"
    }
   ],
   "source": [
    "from ragas.testset import TestsetGenerator\n",
    "\n",
    "generator = TestsetGenerator(llm=generator_llm, embedding_model=generator_embeddings)\n",
    "dataset = generator.generate_with_langchain_docs(mini_set, testset_size=10)"
   ]
  },
  {
   "cell_type": "code",
   "execution_count": 26,
   "metadata": {},
   "outputs": [
    {
     "data": {
      "text/html": [
       "<div>\n",
       "<style scoped>\n",
       "    .dataframe tbody tr th:only-of-type {\n",
       "        vertical-align: middle;\n",
       "    }\n",
       "\n",
       "    .dataframe tbody tr th {\n",
       "        vertical-align: top;\n",
       "    }\n",
       "\n",
       "    .dataframe thead th {\n",
       "        text-align: right;\n",
       "    }\n",
       "</style>\n",
       "<table border=\"1\" class=\"dataframe\">\n",
       "  <thead>\n",
       "    <tr style=\"text-align: right;\">\n",
       "      <th></th>\n",
       "    </tr>\n",
       "  </thead>\n",
       "  <tbody>\n",
       "  </tbody>\n",
       "</table>\n",
       "</div>"
      ],
      "text/plain": [
       "Empty DataFrame\n",
       "Columns: []\n",
       "Index: []"
      ]
     },
     "execution_count": 26,
     "metadata": {},
     "output_type": "execute_result"
    }
   ],
   "source": [
    "dataset.to_pandas()"
   ]
  },
  {
   "cell_type": "code",
   "execution_count": null,
   "metadata": {},
   "outputs": [],
   "source": [
    "from langgraph.graph import START, StateGraph\n",
    "from typing_extensions import List, TypedDict\n",
    "from langchain_core.documents import Document\n",
    "\n",
    "class State(TypedDict):\n",
    "  question: str\n",
    "  context: List[Document]\n",
    "  response: str"
   ]
  },
  {
   "cell_type": "code",
   "execution_count": null,
   "metadata": {},
   "outputs": [],
   "source": [
    "def retrieve(state):\n",
    "  retrieved_docs = retriever.invoke(state[\"question\"])\n",
    "  return {\"context\" : retrieved_docs}"
   ]
  },
  {
   "cell_type": "code",
   "execution_count": null,
   "metadata": {},
   "outputs": [],
   "source": [
    "def generate(state):\n",
    "  docs_content = \"\\n\\n\".join(doc.page_content for doc in state[\"context\"])\n",
    "  messages = rag_prompt.format_messages(question=state[\"question\"], context=docs_content)\n",
    "  response = base_llm.invoke(messages)\n",
    "  return {\"response\" : response.content}"
   ]
  },
  {
   "cell_type": "code",
   "execution_count": null,
   "metadata": {},
   "outputs": [],
   "source": [
    "graph_builder = StateGraph(State).add_sequence([retrieve, generate])\n",
    "graph_builder.add_edge(START, \"retrieve\")\n",
    "graph = graph_builder.compile()"
   ]
  },
  {
   "cell_type": "code",
   "execution_count": null,
   "metadata": {},
   "outputs": [],
   "source": [
    "for test_row in dataset:\n",
    "  response = graph.invoke({\"question\" : test_row.eval_sample.user_input})\n",
    "  test_row.eval_sample.response = response[\"response\"]\n",
    "  test_row.eval_sample.retrieved_contexts = [context.page_content for context in response[\"context\"]]"
   ]
  },
  {
   "cell_type": "code",
   "execution_count": null,
   "metadata": {},
   "outputs": [],
   "source": [
    "from ragas import EvaluationDataset\n",
    "\n",
    "evaluation_dataset = EvaluationDataset.from_pandas(dataset.to_pandas())"
   ]
  },
  {
   "cell_type": "code",
   "execution_count": null,
   "metadata": {},
   "outputs": [],
   "source": [
    "from ragas import evaluate\n",
    "from ragas.llms import LangchainLLMWrapper\n",
    "\n",
    "evaluator_llm = LangchainLLMWrapper(ChatOpenAI(model=\"gpt-4o-mini\"))"
   ]
  },
  {
   "cell_type": "code",
   "execution_count": null,
   "metadata": {},
   "outputs": [],
   "source": [
    "from ragas.metrics import LLMContextRecall, Faithfulness, FactualCorrectness, ResponseRelevancy, ContextEntityRecall, NoiseSensitivity\n",
    "from ragas import evaluate, RunConfig\n",
    "\n",
    "custom_run_config = RunConfig(timeout=360)\n",
    "\n",
    "result = evaluate(\n",
    "    dataset=evaluation_dataset,\n",
    "    metrics=[LLMContextRecall(), Faithfulness(), FactualCorrectness(), ResponseRelevancy(), ContextEntityRecall(), NoiseSensitivity()],\n",
    "    llm=evaluator_llm,\n",
    "    run_config=custom_run_config\n",
    ")\n",
    "result"
   ]
  }
 ],
 "metadata": {
  "kernelspec": {
   "display_name": "llmops-course",
   "language": "python",
   "name": "python3"
  },
  "language_info": {
   "codemirror_mode": {
    "name": "ipython",
    "version": 3
   },
   "file_extension": ".py",
   "mimetype": "text/x-python",
   "name": "python",
   "nbconvert_exporter": "python",
   "pygments_lexer": "ipython3",
   "version": "3.11.11"
  }
 },
 "nbformat": 4,
 "nbformat_minor": 2
}
